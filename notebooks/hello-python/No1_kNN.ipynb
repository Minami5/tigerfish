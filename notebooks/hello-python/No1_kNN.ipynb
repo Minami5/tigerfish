{
  "nbformat": 4,
  "nbformat_minor": 0,
  "metadata": {
    "kernelspec": {
      "display_name": "Python 3",
      "language": "python",
      "name": "python3"
    },
    "language_info": {
      "codemirror_mode": {
        "name": "ipython",
        "version": 3
      },
      "file_extension": ".py",
      "mimetype": "text/x-python",
      "name": "python",
      "nbconvert_exporter": "python",
      "pygments_lexer": "ipython3",
      "version": "3.6.8"
    },
    "colab": {
      "name": "No1_kNN.ipynb",
      "provenance": [],
      "include_colab_link": true
    }
  },
  "cells": [
    {
      "cell_type": "markdown",
      "metadata": {
        "id": "view-in-github",
        "colab_type": "text"
      },
      "source": [
        "<a href=\"https://colab.research.google.com/github/khirotaka/tigerfish/blob/master/notebooks/hello-python/No1_kNN.ipynb\" target=\"_parent\"><img src=\"https://colab.research.google.com/assets/colab-badge.svg\" alt=\"Open In Colab\"/></a>"
      ]
    },
    {
      "cell_type": "markdown",
      "metadata": {
        "id": "8H4N9JrhwtM0"
      },
      "source": [
        "# Irisデータセットを使ってkNNを体験する"
      ]
    },
    {
      "cell_type": "markdown",
      "metadata": {
        "id": "lyHwXWSvwtM0"
      },
      "source": [
        "## ライブラリのインポート"
      ]
    },
    {
      "cell_type": "code",
      "metadata": {
        "id": "BapslVegwtM0"
      },
      "source": [
        "import matplotlib.pyplot as plt\n",
        "from sklearn import datasets\n",
        "from sklearn.metrics import accuracy_score\n",
        "from sklearn.preprocessing import StandardScaler\n",
        "from sklearn.neighbors import KNeighborsClassifier\n",
        "from sklearn.model_selection import train_test_split\n",
        "from mlxtend.plotting import plot_decision_regions"
      ],
      "execution_count": null,
      "outputs": []
    },
    {
      "cell_type": "markdown",
      "metadata": {
        "id": "tYcW_SnJwtM0"
      },
      "source": [
        "## ハイパーパラメータとデータセットの準備"
      ]
    },
    {
      "cell_type": "code",
      "metadata": {
        "id": "8-dNMnEYwtM0"
      },
      "source": [
        "k = 5\n",
        "seed = 1\n",
        "d1 = 0\n",
        "d2 = 1\n",
        "\n",
        "iris = datasets.load_iris()\n",
        "x = iris.data[:, [d1, d2]]\n",
        "y = iris.target\n",
        "\n",
        "x_train, x_test, y_train, y_test =\\\n",
        "    train_test_split(x, y, test_size=0.3, random_state=seed)\n",
        "\n",
        "sc = StandardScaler()\n",
        "sc.fit(x_train)\n",
        "x_train_std = sc.transform(x_train)\n",
        "x_test_std = sc.transform(x_test)"
      ],
      "execution_count": null,
      "outputs": []
    },
    {
      "cell_type": "markdown",
      "metadata": {
        "id": "KfDZnM-uwtM0"
      },
      "source": [
        "## kNNの学習"
      ]
    },
    {
      "cell_type": "code",
      "metadata": {
        "id": "8p1emcmswtM0",
        "outputId": "5a601e1d-e295-4e3a-dd83-b45742eb72d7"
      },
      "source": [
        "knn = KNeighborsClassifier(n_neighbors=k)\n",
        "knn.fit(x_train_std, y_train)"
      ],
      "execution_count": null,
      "outputs": [
        {
          "output_type": "execute_result",
          "data": {
            "text/plain": [
              "KNeighborsClassifier(algorithm='auto', leaf_size=30, metric='minkowski',\n",
              "           metric_params=None, n_jobs=None, n_neighbors=5, p=2,\n",
              "           weights='uniform')"
            ]
          },
          "metadata": {
            "tags": []
          },
          "execution_count": 3
        }
      ]
    },
    {
      "cell_type": "markdown",
      "metadata": {
        "id": "DPgFRnqywtM1"
      },
      "source": [
        "## 分類精度の算出"
      ]
    },
    {
      "cell_type": "code",
      "metadata": {
        "id": "XBpVJWeEwtM1",
        "outputId": "00aff21c-f56f-460a-cf25-385c6ef3d3bf"
      },
      "source": [
        "train_acc = accuracy_score(y_train, knn.predict(x_train_std))\n",
        "test_acc = accuracy_score(y_test, knn.predict(x_test_std))\n",
        "\n",
        "print(\"k={}, features=({}, {})\".format(k, d1, d2))\n",
        "print(\"Training accuracy: {:.4%}\".format(train_acc))\n",
        "print(\"Test_accuracy:     {:.4%}\".format(test_acc))"
      ],
      "execution_count": null,
      "outputs": [
        {
          "output_type": "stream",
          "text": [
            "k=5, features=(0, 1)\n",
            "Training accuracy: 85.7143%\n",
            "Test_accuracy:     68.8889%\n"
          ],
          "name": "stdout"
        }
      ]
    },
    {
      "cell_type": "markdown",
      "metadata": {
        "id": "x1lJ8RjLwtM1"
      },
      "source": [
        "## 識別境界面をプロット"
      ]
    },
    {
      "cell_type": "markdown",
      "metadata": {
        "id": "VxXZ8B48wtM1"
      },
      "source": [
        "### 訓練用データセットを使った場合"
      ]
    },
    {
      "cell_type": "code",
      "metadata": {
        "id": "IgiQd_QqwtM1",
        "outputId": "ab33813b-730d-4fba-dee2-4cf66f8f5025"
      },
      "source": [
        "plt.title(\"Using train_dataset\")\n",
        "plt.xlabel(\"sepal length [standardized]\")\n",
        "plt.ylabel(\"sepal width [standardized]\")\n",
        "plot_decision_regions(x_train_std, y_train, clf=knn)"
      ],
      "execution_count": null,
      "outputs": [
        {
          "output_type": "execute_result",
          "data": {
            "text/plain": [
              "<matplotlib.axes._subplots.AxesSubplot at 0x1182efda0>"
            ]
          },
          "metadata": {
            "tags": []
          },
          "execution_count": 5
        },
        {
          "output_type": "display_data",
          "data": {
            "image/png": "[encoded data removed]",
            "text/plain": [
              "<Figure size 432x288 with 1 Axes>"
            ]
          },
          "metadata": {
            "tags": [],
            "needs_background": "light"
          }
        }
      ]
    },
    {
      "cell_type": "markdown",
      "metadata": {
        "id": "DD5Imo4WwtM1"
      },
      "source": [
        "### 試験用データセットを使った場合"
      ]
    },
    {
      "cell_type": "code",
      "metadata": {
        "id": "EIhc6IqVwtM1",
        "outputId": "27aa5362-a446-4a44-fc28-ae056855bde1"
      },
      "source": [
        "plt.title(\"Using test_dataset\")\n",
        "plt.xlabel(\"sepal length [standardized]\")\n",
        "plt.ylabel(\"sepal width [standardized]\")\n",
        "plot_decision_regions(x_test_std, y_test, clf=knn)"
      ],
      "execution_count": null,
      "outputs": [
        {
          "output_type": "execute_result",
          "data": {
            "text/plain": [
              "<matplotlib.axes._subplots.AxesSubplot at 0x1054d6588>"
            ]
          },
          "metadata": {
            "tags": []
          },
          "execution_count": 6
        },
        {
          "output_type": "display_data",
          "data": {
            "image/png": "[encoded data removed]",
            "text/plain": [
              "<Figure size 432x288 with 1 Axes>"
            ]
          },
          "metadata": {
            "tags": [],
            "needs_background": "light"
          }
        }
      ]
    },
    {
      "cell_type": "code",
      "metadata": {
        "id": "7Dg55VAKwtM2"
      },
      "source": [
        ""
      ],
      "execution_count": null,
      "outputs": []
    }
  ]
}